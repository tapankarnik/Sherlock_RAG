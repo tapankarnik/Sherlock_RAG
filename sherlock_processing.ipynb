{
 "cells": [
  {
   "cell_type": "code",
   "execution_count": null,
   "metadata": {},
   "outputs": [],
   "source": [
    "import pandas as pd\n",
    "\n",
    "raw_book = pd.read_csv('assets/the_adventures_of_sherlock_holmes.txt')\n",
    "\n",
    "raw_book"
   ]
  }
 ],
 "metadata": {
  "language_info": {
   "name": "python"
  }
 },
 "nbformat": 4,
 "nbformat_minor": 2
}
