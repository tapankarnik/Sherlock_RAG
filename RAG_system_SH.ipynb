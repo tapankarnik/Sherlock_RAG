{
 "cells": [
  {
   "cell_type": "code",
   "execution_count": 2,
   "id": "d566bb99-6808-4976-8476-ed05b7941b80",
   "metadata": {},
   "outputs": [
    {
     "data": {
      "text/html": [
       "<div>\n",
       "<style scoped>\n",
       "    .dataframe tbody tr th:only-of-type {\n",
       "        vertical-align: middle;\n",
       "    }\n",
       "\n",
       "    .dataframe tbody tr th {\n",
       "        vertical-align: top;\n",
       "    }\n",
       "\n",
       "    .dataframe thead th {\n",
       "        text-align: right;\n",
       "    }\n",
       "</style>\n",
       "<table border=\"1\" class=\"dataframe\">\n",
       "  <thead>\n",
       "    <tr style=\"text-align: right;\">\n",
       "      <th></th>\n",
       "      <th>location</th>\n",
       "      <th>english_translation</th>\n",
       "      <th>notes</th>\n",
       "    </tr>\n",
       "    <tr>\n",
       "      <th>sno</th>\n",
       "      <th></th>\n",
       "      <th></th>\n",
       "      <th></th>\n",
       "    </tr>\n",
       "  </thead>\n",
       "  <tbody>\n",
       "    <tr>\n",
       "      <th>1</th>\n",
       "      <td>Arjuna's Vishada Yoga Chapter 1 Verse 1.1</td>\n",
       "      <td>Dhrtarashtra asked of Sanjaya: O SANJAYA, what...</td>\n",
       "      <td>Arjuna's Vishada Yoga Chapter 1 Verse 1.1 - Dh...</td>\n",
       "    </tr>\n",
       "    <tr>\n",
       "      <th>2</th>\n",
       "      <td>Arjuna's Vishada Yoga Chapter 1 Verse 1.2</td>\n",
       "      <td>Sanjaya explained: Now seeing that the army of...</td>\n",
       "      <td>Arjuna's Vishada Yoga Chapter 1 Verse 1.2 - Sa...</td>\n",
       "    </tr>\n",
       "    <tr>\n",
       "      <th>3</th>\n",
       "      <td>Arjuna's Vishada Yoga Chapter 1 Verse 1.3</td>\n",
       "      <td>Behold O, Master, the mighty army of the sons ...</td>\n",
       "      <td>Arjuna's Vishada Yoga Chapter 1 Verse 1.3 - Be...</td>\n",
       "    </tr>\n",
       "    <tr>\n",
       "      <th>4</th>\n",
       "      <td>Arjuna's Vishada Yoga Chapter 1 Verse 1.4</td>\n",
       "      <td>Present here are the mighty archers, peers or ...</td>\n",
       "      <td>Arjuna's Vishada Yoga Chapter 1 Verse 1.4 - Pr...</td>\n",
       "    </tr>\n",
       "    <tr>\n",
       "      <th>5</th>\n",
       "      <td>Arjuna's Vishada Yoga Chapter 1 Verse 1.5</td>\n",
       "      <td>Dhrishtaketu, Chekitana, and the valiant king ...</td>\n",
       "      <td>Arjuna's Vishada Yoga Chapter 1 Verse 1.5 - Dh...</td>\n",
       "    </tr>\n",
       "    <tr>\n",
       "      <th>...</th>\n",
       "      <td>...</td>\n",
       "      <td>...</td>\n",
       "      <td>...</td>\n",
       "    </tr>\n",
       "    <tr>\n",
       "      <th>696</th>\n",
       "      <td>Moksha-Sanyasa Yoga Chapter 18 Verse 18.74</td>\n",
       "      <td>Sanjaya concluded: Thus my dear King, I have r...</td>\n",
       "      <td>Moksha-Sanyasa Yoga Chapter 18 Verse 18.74 - S...</td>\n",
       "    </tr>\n",
       "    <tr>\n",
       "      <th>697</th>\n",
       "      <td>Moksha-Sanyasa Yoga Chapter 18 Verse 18.75</td>\n",
       "      <td>By the kindness of the Holy poet, Ved O’Vyas, ...</td>\n",
       "      <td>Moksha-Sanyasa Yoga Chapter 18 Verse 18.75 - B...</td>\n",
       "    </tr>\n",
       "    <tr>\n",
       "      <th>698</th>\n",
       "      <td>Moksha-Sanyasa Yoga Chapter 18 Verse 18.76</td>\n",
       "      <td>The more I recall these glorious words, my Kin...</td>\n",
       "      <td>Moksha-Sanyasa Yoga Chapter 18 Verse 18.76 - T...</td>\n",
       "    </tr>\n",
       "    <tr>\n",
       "      <th>699</th>\n",
       "      <td>Moksha-Sanyasa Yoga Chapter 18 Verse 18.77</td>\n",
       "      <td>O My King, whenever I remember that most beaut...</td>\n",
       "      <td>Moksha-Sanyasa Yoga Chapter 18 Verse 18.77 - O...</td>\n",
       "    </tr>\n",
       "    <tr>\n",
       "      <th>700</th>\n",
       "      <td>Moksha-Sanyasa Yoga Chapter 18 Verse 18.78</td>\n",
       "      <td>Wherever there is the Divine Lord Krishna, the...</td>\n",
       "      <td>Moksha-Sanyasa Yoga Chapter 18 Verse 18.78 - W...</td>\n",
       "    </tr>\n",
       "  </tbody>\n",
       "</table>\n",
       "<p>700 rows × 3 columns</p>\n",
       "</div>"
      ],
      "text/plain": [
       "                                       location  \\\n",
       "sno                                               \n",
       "1     Arjuna's Vishada Yoga Chapter 1 Verse 1.1   \n",
       "2     Arjuna's Vishada Yoga Chapter 1 Verse 1.2   \n",
       "3     Arjuna's Vishada Yoga Chapter 1 Verse 1.3   \n",
       "4     Arjuna's Vishada Yoga Chapter 1 Verse 1.4   \n",
       "5     Arjuna's Vishada Yoga Chapter 1 Verse 1.5   \n",
       "..                                          ...   \n",
       "696  Moksha-Sanyasa Yoga Chapter 18 Verse 18.74   \n",
       "697  Moksha-Sanyasa Yoga Chapter 18 Verse 18.75   \n",
       "698  Moksha-Sanyasa Yoga Chapter 18 Verse 18.76   \n",
       "699  Moksha-Sanyasa Yoga Chapter 18 Verse 18.77   \n",
       "700  Moksha-Sanyasa Yoga Chapter 18 Verse 18.78   \n",
       "\n",
       "                                   english_translation  \\\n",
       "sno                                                      \n",
       "1    Dhrtarashtra asked of Sanjaya: O SANJAYA, what...   \n",
       "2    Sanjaya explained: Now seeing that the army of...   \n",
       "3    Behold O, Master, the mighty army of the sons ...   \n",
       "4    Present here are the mighty archers, peers or ...   \n",
       "5    Dhrishtaketu, Chekitana, and the valiant king ...   \n",
       "..                                                 ...   \n",
       "696  Sanjaya concluded: Thus my dear King, I have r...   \n",
       "697  By the kindness of the Holy poet, Ved O’Vyas, ...   \n",
       "698  The more I recall these glorious words, my Kin...   \n",
       "699  O My King, whenever I remember that most beaut...   \n",
       "700  Wherever there is the Divine Lord Krishna, the...   \n",
       "\n",
       "                                                 notes  \n",
       "sno                                                     \n",
       "1    Arjuna's Vishada Yoga Chapter 1 Verse 1.1 - Dh...  \n",
       "2    Arjuna's Vishada Yoga Chapter 1 Verse 1.2 - Sa...  \n",
       "3    Arjuna's Vishada Yoga Chapter 1 Verse 1.3 - Be...  \n",
       "4    Arjuna's Vishada Yoga Chapter 1 Verse 1.4 - Pr...  \n",
       "5    Arjuna's Vishada Yoga Chapter 1 Verse 1.5 - Dh...  \n",
       "..                                                 ...  \n",
       "696  Moksha-Sanyasa Yoga Chapter 18 Verse 18.74 - S...  \n",
       "697  Moksha-Sanyasa Yoga Chapter 18 Verse 18.75 - B...  \n",
       "698  Moksha-Sanyasa Yoga Chapter 18 Verse 18.76 - T...  \n",
       "699  Moksha-Sanyasa Yoga Chapter 18 Verse 18.77 - O...  \n",
       "700  Moksha-Sanyasa Yoga Chapter 18 Verse 18.78 - W...  \n",
       "\n",
       "[700 rows x 3 columns]"
      ]
     },
     "execution_count": 2,
     "metadata": {},
     "output_type": "execute_result"
    }
   ],
   "source": [
    "import pandas as pd\n",
    "import pprint\n",
    "pp = pprint.PrettyPrinter(indent=2)\n",
    "\n",
    "\n",
    "df = pd.read_csv('../../bgd.csv', index_col=0)\n",
    "df = df[df['english_translation'].notna()] # remove any NaN values as it blows up serialization\n",
    "data = df.to_dict('records')\n",
    "df"
   ]
  },
  {
   "cell_type": "code",
   "execution_count": 3,
   "id": "af8bce2c-e123-498a-a5f2-cefffd17fc74",
   "metadata": {},
   "outputs": [],
   "source": [
    "from qdrant_client import models, QdrantClient\n",
    "from sentence_transformers import SentenceTransformer"
   ]
  },
  {
   "cell_type": "code",
   "execution_count": 5,
   "id": "2b0e4be5-7518-4458-bf47-6913ef9a72a9",
   "metadata": {},
   "outputs": [
    {
     "data": {
      "application/vnd.jupyter.widget-view+json": {
       "model_id": "b30b9e283ff84e4aaceabd730d60a92c",
       "version_major": 2,
       "version_minor": 0
      },
      "text/plain": [
       "model.safetensors:  62%|######2   | 3.85G/6.17G [00:00<?, ?B/s]"
      ]
     },
     "metadata": {},
     "output_type": "display_data"
    },
    {
     "ename": "OSError",
     "evalue": "[Errno 28] No space left on device",
     "output_type": "error",
     "traceback": [
      "\u001b[0;31m---------------------------------------------------------------------------\u001b[0m",
      "\u001b[0;31mOSError\u001b[0m                                   Traceback (most recent call last)",
      "Cell \u001b[0;32mIn[5], line 1\u001b[0m\n\u001b[0;32m----> 1\u001b[0m encoder \u001b[38;5;241m=\u001b[39m \u001b[43mSentenceTransformer\u001b[49m\u001b[43m(\u001b[49m\u001b[38;5;124;43m'\u001b[39;49m\u001b[38;5;124;43mdunzhang/stella_en_1.5B_v5\u001b[39;49m\u001b[38;5;124;43m'\u001b[39;49m\u001b[43m)\u001b[49m \u001b[38;5;66;03m# Model to create embeddings\u001b[39;00m\n",
      "File \u001b[0;32m~/Documents/3 Resources/RAG Course on Coursera/Learn-RAG/venv/lib/python3.11/site-packages/sentence_transformers/SentenceTransformer.py:87\u001b[0m, in \u001b[0;36mSentenceTransformer.__init__\u001b[0;34m(self, model_name_or_path, modules, device, cache_folder, use_auth_token)\u001b[0m\n\u001b[1;32m     83\u001b[0m     model_path \u001b[38;5;241m=\u001b[39m os\u001b[38;5;241m.\u001b[39mpath\u001b[38;5;241m.\u001b[39mjoin(cache_folder, model_name_or_path\u001b[38;5;241m.\u001b[39mreplace(\u001b[38;5;124m\"\u001b[39m\u001b[38;5;124m/\u001b[39m\u001b[38;5;124m\"\u001b[39m, \u001b[38;5;124m\"\u001b[39m\u001b[38;5;124m_\u001b[39m\u001b[38;5;124m\"\u001b[39m))\n\u001b[1;32m     85\u001b[0m     \u001b[38;5;28;01mif\u001b[39;00m \u001b[38;5;129;01mnot\u001b[39;00m os\u001b[38;5;241m.\u001b[39mpath\u001b[38;5;241m.\u001b[39mexists(os\u001b[38;5;241m.\u001b[39mpath\u001b[38;5;241m.\u001b[39mjoin(model_path, \u001b[38;5;124m'\u001b[39m\u001b[38;5;124mmodules.json\u001b[39m\u001b[38;5;124m'\u001b[39m)):\n\u001b[1;32m     86\u001b[0m         \u001b[38;5;66;03m# Download from hub with caching\u001b[39;00m\n\u001b[0;32m---> 87\u001b[0m         \u001b[43msnapshot_download\u001b[49m\u001b[43m(\u001b[49m\u001b[43mmodel_name_or_path\u001b[49m\u001b[43m,\u001b[49m\n\u001b[1;32m     88\u001b[0m \u001b[43m                            \u001b[49m\u001b[43mcache_dir\u001b[49m\u001b[38;5;241;43m=\u001b[39;49m\u001b[43mcache_folder\u001b[49m\u001b[43m,\u001b[49m\n\u001b[1;32m     89\u001b[0m \u001b[43m                            \u001b[49m\u001b[43mlibrary_name\u001b[49m\u001b[38;5;241;43m=\u001b[39;49m\u001b[38;5;124;43m'\u001b[39;49m\u001b[38;5;124;43msentence-transformers\u001b[39;49m\u001b[38;5;124;43m'\u001b[39;49m\u001b[43m,\u001b[49m\n\u001b[1;32m     90\u001b[0m \u001b[43m                            \u001b[49m\u001b[43mlibrary_version\u001b[49m\u001b[38;5;241;43m=\u001b[39;49m\u001b[43m__version__\u001b[49m\u001b[43m,\u001b[49m\n\u001b[1;32m     91\u001b[0m \u001b[43m                            \u001b[49m\u001b[43mignore_files\u001b[49m\u001b[38;5;241;43m=\u001b[39;49m\u001b[43m[\u001b[49m\u001b[38;5;124;43m'\u001b[39;49m\u001b[38;5;124;43mflax_model.msgpack\u001b[39;49m\u001b[38;5;124;43m'\u001b[39;49m\u001b[43m,\u001b[49m\u001b[43m \u001b[49m\u001b[38;5;124;43m'\u001b[39;49m\u001b[38;5;124;43mrust_model.ot\u001b[39;49m\u001b[38;5;124;43m'\u001b[39;49m\u001b[43m,\u001b[49m\u001b[43m \u001b[49m\u001b[38;5;124;43m'\u001b[39;49m\u001b[38;5;124;43mtf_model.h5\u001b[39;49m\u001b[38;5;124;43m'\u001b[39;49m\u001b[43m]\u001b[49m\u001b[43m,\u001b[49m\n\u001b[1;32m     92\u001b[0m \u001b[43m                            \u001b[49m\u001b[43muse_auth_token\u001b[49m\u001b[38;5;241;43m=\u001b[39;49m\u001b[43muse_auth_token\u001b[49m\u001b[43m)\u001b[49m\n\u001b[1;32m     94\u001b[0m \u001b[38;5;28;01mif\u001b[39;00m os\u001b[38;5;241m.\u001b[39mpath\u001b[38;5;241m.\u001b[39mexists(os\u001b[38;5;241m.\u001b[39mpath\u001b[38;5;241m.\u001b[39mjoin(model_path, \u001b[38;5;124m'\u001b[39m\u001b[38;5;124mmodules.json\u001b[39m\u001b[38;5;124m'\u001b[39m)):    \u001b[38;5;66;03m#Load as SentenceTransformer model\u001b[39;00m\n\u001b[1;32m     95\u001b[0m     modules \u001b[38;5;241m=\u001b[39m \u001b[38;5;28mself\u001b[39m\u001b[38;5;241m.\u001b[39m_load_sbert_model(model_path)\n",
      "File \u001b[0;32m~/Documents/3 Resources/RAG Course on Coursera/Learn-RAG/venv/lib/python3.11/site-packages/sentence_transformers/util.py:491\u001b[0m, in \u001b[0;36msnapshot_download\u001b[0;34m(repo_id, revision, cache_dir, library_name, library_version, user_agent, ignore_files, use_auth_token)\u001b[0m\n\u001b[1;32m    486\u001b[0m \u001b[38;5;28;01mif\u001b[39;00m version\u001b[38;5;241m.\u001b[39mparse(huggingface_hub\u001b[38;5;241m.\u001b[39m__version__) \u001b[38;5;241m>\u001b[39m\u001b[38;5;241m=\u001b[39m version\u001b[38;5;241m.\u001b[39mparse(\u001b[38;5;124m\"\u001b[39m\u001b[38;5;124m0.8.1\u001b[39m\u001b[38;5;124m\"\u001b[39m):\n\u001b[1;32m    487\u001b[0m     \u001b[38;5;66;03m# huggingface_hub v0.8.1 introduces a new cache layout. We sill use a manual layout\u001b[39;00m\n\u001b[1;32m    488\u001b[0m     \u001b[38;5;66;03m# And need to pass legacy_cache_layout=True to avoid that a warning will be printed\u001b[39;00m\n\u001b[1;32m    489\u001b[0m     cached_download_args[\u001b[38;5;124m'\u001b[39m\u001b[38;5;124mlegacy_cache_layout\u001b[39m\u001b[38;5;124m'\u001b[39m] \u001b[38;5;241m=\u001b[39m \u001b[38;5;28;01mTrue\u001b[39;00m\n\u001b[0;32m--> 491\u001b[0m path \u001b[38;5;241m=\u001b[39m \u001b[43mcached_download\u001b[49m\u001b[43m(\u001b[49m\u001b[38;5;241;43m*\u001b[39;49m\u001b[38;5;241;43m*\u001b[39;49m\u001b[43mcached_download_args\u001b[49m\u001b[43m)\u001b[49m\n\u001b[1;32m    493\u001b[0m \u001b[38;5;28;01mif\u001b[39;00m os\u001b[38;5;241m.\u001b[39mpath\u001b[38;5;241m.\u001b[39mexists(path \u001b[38;5;241m+\u001b[39m \u001b[38;5;124m\"\u001b[39m\u001b[38;5;124m.lock\u001b[39m\u001b[38;5;124m\"\u001b[39m):\n\u001b[1;32m    494\u001b[0m     os\u001b[38;5;241m.\u001b[39mremove(path \u001b[38;5;241m+\u001b[39m \u001b[38;5;124m\"\u001b[39m\u001b[38;5;124m.lock\u001b[39m\u001b[38;5;124m\"\u001b[39m)\n",
      "File \u001b[0;32m~/Documents/3 Resources/RAG Course on Coursera/Learn-RAG/venv/lib/python3.11/site-packages/huggingface_hub/utils/_validators.py:114\u001b[0m, in \u001b[0;36mvalidate_hf_hub_args.<locals>._inner_fn\u001b[0;34m(*args, **kwargs)\u001b[0m\n\u001b[1;32m    111\u001b[0m \u001b[38;5;28;01mif\u001b[39;00m check_use_auth_token:\n\u001b[1;32m    112\u001b[0m     kwargs \u001b[38;5;241m=\u001b[39m smoothly_deprecate_use_auth_token(fn_name\u001b[38;5;241m=\u001b[39mfn\u001b[38;5;241m.\u001b[39m\u001b[38;5;18m__name__\u001b[39m, has_token\u001b[38;5;241m=\u001b[39mhas_token, kwargs\u001b[38;5;241m=\u001b[39mkwargs)\n\u001b[0;32m--> 114\u001b[0m \u001b[38;5;28;01mreturn\u001b[39;00m \u001b[43mfn\u001b[49m\u001b[43m(\u001b[49m\u001b[38;5;241;43m*\u001b[39;49m\u001b[43margs\u001b[49m\u001b[43m,\u001b[49m\u001b[43m \u001b[49m\u001b[38;5;241;43m*\u001b[39;49m\u001b[38;5;241;43m*\u001b[39;49m\u001b[43mkwargs\u001b[49m\u001b[43m)\u001b[49m\n",
      "File \u001b[0;32m~/Documents/3 Resources/RAG Course on Coursera/Learn-RAG/venv/lib/python3.11/site-packages/huggingface_hub/utils/_deprecation.py:132\u001b[0m, in \u001b[0;36m_deprecate_method.<locals>._inner_deprecate_method.<locals>.inner_f\u001b[0;34m(*args, **kwargs)\u001b[0m\n\u001b[1;32m    130\u001b[0m     warning_message \u001b[38;5;241m+\u001b[39m\u001b[38;5;241m=\u001b[39m \u001b[38;5;124m\"\u001b[39m\u001b[38;5;124m \u001b[39m\u001b[38;5;124m\"\u001b[39m \u001b[38;5;241m+\u001b[39m message\n\u001b[1;32m    131\u001b[0m warnings\u001b[38;5;241m.\u001b[39mwarn(warning_message, \u001b[38;5;167;01mFutureWarning\u001b[39;00m)\n\u001b[0;32m--> 132\u001b[0m \u001b[38;5;28;01mreturn\u001b[39;00m \u001b[43mf\u001b[49m\u001b[43m(\u001b[49m\u001b[38;5;241;43m*\u001b[39;49m\u001b[43margs\u001b[49m\u001b[43m,\u001b[49m\u001b[43m \u001b[49m\u001b[38;5;241;43m*\u001b[39;49m\u001b[38;5;241;43m*\u001b[39;49m\u001b[43mkwargs\u001b[49m\u001b[43m)\u001b[49m\n",
      "File \u001b[0;32m~/Documents/3 Resources/RAG Course on Coursera/Learn-RAG/venv/lib/python3.11/site-packages/huggingface_hub/file_download.py:799\u001b[0m, in \u001b[0;36mcached_download\u001b[0;34m(url, library_name, library_version, cache_dir, user_agent, force_download, force_filename, proxies, etag_timeout, resume_download, token, local_files_only, legacy_cache_layout)\u001b[0m\n\u001b[1;32m    796\u001b[0m     cache_path \u001b[38;5;241m=\u001b[39m \u001b[38;5;124m\"\u001b[39m\u001b[38;5;130;01m\\\\\u001b[39;00m\u001b[38;5;130;01m\\\\\u001b[39;00m\u001b[38;5;124m?\u001b[39m\u001b[38;5;130;01m\\\\\u001b[39;00m\u001b[38;5;124m\"\u001b[39m \u001b[38;5;241m+\u001b[39m os\u001b[38;5;241m.\u001b[39mpath\u001b[38;5;241m.\u001b[39mabspath(cache_path)\n\u001b[1;32m    798\u001b[0m \u001b[38;5;28;01mwith\u001b[39;00m WeakFileLock(lock_path):\n\u001b[0;32m--> 799\u001b[0m     \u001b[43m_download_to_tmp_and_move\u001b[49m\u001b[43m(\u001b[49m\n\u001b[1;32m    800\u001b[0m \u001b[43m        \u001b[49m\u001b[43mincomplete_path\u001b[49m\u001b[38;5;241;43m=\u001b[39;49m\u001b[43mPath\u001b[49m\u001b[43m(\u001b[49m\u001b[43mcache_path\u001b[49m\u001b[43m \u001b[49m\u001b[38;5;241;43m+\u001b[39;49m\u001b[43m \u001b[49m\u001b[38;5;124;43m\"\u001b[39;49m\u001b[38;5;124;43m.incomplete\u001b[39;49m\u001b[38;5;124;43m\"\u001b[39;49m\u001b[43m)\u001b[49m\u001b[43m,\u001b[49m\n\u001b[1;32m    801\u001b[0m \u001b[43m        \u001b[49m\u001b[43mdestination_path\u001b[49m\u001b[38;5;241;43m=\u001b[39;49m\u001b[43mPath\u001b[49m\u001b[43m(\u001b[49m\u001b[43mcache_path\u001b[49m\u001b[43m)\u001b[49m\u001b[43m,\u001b[49m\n\u001b[1;32m    802\u001b[0m \u001b[43m        \u001b[49m\u001b[43murl_to_download\u001b[49m\u001b[38;5;241;43m=\u001b[39;49m\u001b[43murl_to_download\u001b[49m\u001b[43m,\u001b[49m\n\u001b[1;32m    803\u001b[0m \u001b[43m        \u001b[49m\u001b[43mproxies\u001b[49m\u001b[38;5;241;43m=\u001b[39;49m\u001b[43mproxies\u001b[49m\u001b[43m,\u001b[49m\n\u001b[1;32m    804\u001b[0m \u001b[43m        \u001b[49m\u001b[43mheaders\u001b[49m\u001b[38;5;241;43m=\u001b[39;49m\u001b[43mheaders\u001b[49m\u001b[43m,\u001b[49m\n\u001b[1;32m    805\u001b[0m \u001b[43m        \u001b[49m\u001b[43mexpected_size\u001b[49m\u001b[38;5;241;43m=\u001b[39;49m\u001b[43mexpected_size\u001b[49m\u001b[43m,\u001b[49m\n\u001b[1;32m    806\u001b[0m \u001b[43m        \u001b[49m\u001b[43mfilename\u001b[49m\u001b[38;5;241;43m=\u001b[39;49m\u001b[43mfilename\u001b[49m\u001b[43m,\u001b[49m\n\u001b[1;32m    807\u001b[0m \u001b[43m        \u001b[49m\u001b[43mforce_download\u001b[49m\u001b[38;5;241;43m=\u001b[39;49m\u001b[43mforce_download\u001b[49m\u001b[43m,\u001b[49m\n\u001b[1;32m    808\u001b[0m \u001b[43m    \u001b[49m\u001b[43m)\u001b[49m\n\u001b[1;32m    810\u001b[0m     \u001b[38;5;28;01mif\u001b[39;00m force_filename \u001b[38;5;129;01mis\u001b[39;00m \u001b[38;5;28;01mNone\u001b[39;00m:\n\u001b[1;32m    811\u001b[0m         logger\u001b[38;5;241m.\u001b[39minfo(\u001b[38;5;124m\"\u001b[39m\u001b[38;5;124mcreating metadata file for \u001b[39m\u001b[38;5;132;01m%s\u001b[39;00m\u001b[38;5;124m\"\u001b[39m, cache_path)\n",
      "File \u001b[0;32m~/Documents/3 Resources/RAG Course on Coursera/Learn-RAG/venv/lib/python3.11/site-packages/huggingface_hub/file_download.py:1915\u001b[0m, in \u001b[0;36m_download_to_tmp_and_move\u001b[0;34m(incomplete_path, destination_path, url_to_download, proxies, headers, expected_size, filename, force_download)\u001b[0m\n\u001b[1;32m   1912\u001b[0m         _check_disk_space(expected_size, incomplete_path\u001b[38;5;241m.\u001b[39mparent)\n\u001b[1;32m   1913\u001b[0m         _check_disk_space(expected_size, destination_path\u001b[38;5;241m.\u001b[39mparent)\n\u001b[0;32m-> 1915\u001b[0m     \u001b[43mhttp_get\u001b[49m\u001b[43m(\u001b[49m\n\u001b[1;32m   1916\u001b[0m \u001b[43m        \u001b[49m\u001b[43murl_to_download\u001b[49m\u001b[43m,\u001b[49m\n\u001b[1;32m   1917\u001b[0m \u001b[43m        \u001b[49m\u001b[43mf\u001b[49m\u001b[43m,\u001b[49m\n\u001b[1;32m   1918\u001b[0m \u001b[43m        \u001b[49m\u001b[43mproxies\u001b[49m\u001b[38;5;241;43m=\u001b[39;49m\u001b[43mproxies\u001b[49m\u001b[43m,\u001b[49m\n\u001b[1;32m   1919\u001b[0m \u001b[43m        \u001b[49m\u001b[43mresume_size\u001b[49m\u001b[38;5;241;43m=\u001b[39;49m\u001b[43mresume_size\u001b[49m\u001b[43m,\u001b[49m\n\u001b[1;32m   1920\u001b[0m \u001b[43m        \u001b[49m\u001b[43mheaders\u001b[49m\u001b[38;5;241;43m=\u001b[39;49m\u001b[43mheaders\u001b[49m\u001b[43m,\u001b[49m\n\u001b[1;32m   1921\u001b[0m \u001b[43m        \u001b[49m\u001b[43mexpected_size\u001b[49m\u001b[38;5;241;43m=\u001b[39;49m\u001b[43mexpected_size\u001b[49m\u001b[43m,\u001b[49m\n\u001b[1;32m   1922\u001b[0m \u001b[43m    \u001b[49m\u001b[43m)\u001b[49m\n\u001b[1;32m   1924\u001b[0m logger\u001b[38;5;241m.\u001b[39minfo(\u001b[38;5;124mf\u001b[39m\u001b[38;5;124m\"\u001b[39m\u001b[38;5;124mDownload complete. Moving file to \u001b[39m\u001b[38;5;132;01m{\u001b[39;00mdestination_path\u001b[38;5;132;01m}\u001b[39;00m\u001b[38;5;124m\"\u001b[39m)\n\u001b[1;32m   1925\u001b[0m _chmod_and_move(incomplete_path, destination_path)\n",
      "File \u001b[0;32m~/Documents/3 Resources/RAG Course on Coursera/Learn-RAG/venv/lib/python3.11/site-packages/huggingface_hub/file_download.py:544\u001b[0m, in \u001b[0;36mhttp_get\u001b[0;34m(url, temp_file, proxies, resume_size, headers, expected_size, displayed_filename, _nb_retries, _tqdm_bar)\u001b[0m\n\u001b[1;32m    542\u001b[0m \u001b[38;5;28;01mif\u001b[39;00m chunk:  \u001b[38;5;66;03m# filter out keep-alive new chunks\u001b[39;00m\n\u001b[1;32m    543\u001b[0m     progress\u001b[38;5;241m.\u001b[39mupdate(\u001b[38;5;28mlen\u001b[39m(chunk))\n\u001b[0;32m--> 544\u001b[0m     temp_file\u001b[38;5;241m.\u001b[39mwrite(chunk)\n\u001b[1;32m    545\u001b[0m     new_resume_size \u001b[38;5;241m+\u001b[39m\u001b[38;5;241m=\u001b[39m \u001b[38;5;28mlen\u001b[39m(chunk)\n\u001b[1;32m    546\u001b[0m     \u001b[38;5;66;03m# Some data has been downloaded from the server so we reset the number of retries.\u001b[39;00m\n",
      "\u001b[0;31mOSError\u001b[0m: [Errno 28] No space left on device"
     ]
    }
   ],
   "source": [
    "encoder = SentenceTransformer('dunzhang/stella_en_1.5B_v5') # Model to create embeddings"
   ]
  },
  {
   "cell_type": "code",
   "execution_count": null,
   "id": "5efa031d-b18a-4db1-9c34-9989a15c822b",
   "metadata": {},
   "outputs": [],
   "source": [
    "# create the vector database client\n",
    "qdrant = QdrantClient(\":memory:\") # Create in-memory Qdrant instance"
   ]
  },
  {
   "cell_type": "code",
   "execution_count": 5,
   "id": "6c03be93-a076-425e-8df1-5a8b6367e558",
   "metadata": {},
   "outputs": [
    {
     "name": "stderr",
     "output_type": "stream",
     "text": [
      "/var/folders/sz/3wq8394j4g56kkvsx4sg91v80000gn/T/ipykernel_2831/843202155.py:2: DeprecationWarning: `recreate_collection` method is deprecated and will be removed in the future. Use `collection_exists` to check collection existence and `create_collection` instead.\n",
      "  qdrant.recreate_collection(\n"
     ]
    },
    {
     "data": {
      "text/plain": [
       "True"
      ]
     },
     "execution_count": 5,
     "metadata": {},
     "output_type": "execute_result"
    }
   ],
   "source": [
    "# Create collection to store wines\n",
    "qdrant.recreate_collection(\n",
    "    collection_name=\"bhakti\",\n",
    "    vectors_config=models.VectorParams(\n",
    "        size=encoder.get_sentence_embedding_dimension(), # Vector size is defined by used model\n",
    "        distance=models.Distance.COSINE\n",
    "    )\n",
    ")"
   ]
  },
  {
   "cell_type": "code",
   "execution_count": 6,
   "id": "93a00057",
   "metadata": {},
   "outputs": [],
   "source": [
    "sliding_window_length = 5\n",
    "sliding_window_step = 2\n",
    "data2 = []\n",
    "\n",
    "for i in range(0, len(data)-sliding_window_length+1, sliding_window_step):\n",
    "    window = []\n",
    "    for j in range(sliding_window_length):\n",
    "        window.append(data[i+j][\"notes\"])\n",
    "    window = \" \".join(window)\n",
    "    data2.append(dict(notes=window))\n",
    "\n",
    "\n"
   ]
  },
  {
   "cell_type": "code",
   "execution_count": 7,
   "id": "655d08af-758f-4338-b112-cf94045c7b0d",
   "metadata": {},
   "outputs": [],
   "source": [
    "# vectorize!\n",
    "qdrant.upload_points(\n",
    "    collection_name=\"bhakti\",\n",
    "    points=[\n",
    "        models.PointStruct(\n",
    "            id=idx,\n",
    "            vector=encoder.encode(doc[\"notes\"]).tolist(),\n",
    "            payload=doc\n",
    "        ) for idx, doc in enumerate(data2) # data is the variable holding all the sick one liners\n",
    "    ]\n",
    ")"
   ]
  },
  {
   "cell_type": "code",
   "execution_count": 21,
   "id": "0a4c04a0",
   "metadata": {},
   "outputs": [],
   "source": [
    "user_prompt = \"But those who worship the formless, the Indefinable, the Imperishable, the Unmanifest, the Omnipresent, the Unthinkable, the Unchangeable, the Immovable, the External- Having controlled all of the senses, always evenminded, thinking of the welfare of all beings, they also come to Me.\""
   ]
  },
  {
   "cell_type": "code",
   "execution_count": 22,
   "id": "68c9bff5-db38-4a98-b542-cd173af11b53",
   "metadata": {},
   "outputs": [
    {
     "name": "stdout",
     "output_type": "stream",
     "text": [
      "{ 'notes': 'Bhakti Yoga Chapter 12 Verse 12.3 - But those who worship the '\n",
      "           'formless, the Indefinable, the Imperishable, the Unmanifest, the '\n",
      "           'Omnipresent, the Unthinkable, the Unchangeable, the Immovable, the '\n",
      "           'External- Having controlled all of the senses, always evenminded, '\n",
      "           'thinking of the welfare of all beings, they also come to Me. '\n",
      "           'Bhakti Yoga Chapter 12 Verse 12.4 - But those who worship the '\n",
      "           'formless, the Indefinable, the Imperishable, the Unmanifest, the '\n",
      "           'Omnipresent, the Unthinkable, the Unchangeable, the Immovable, the '\n",
      "           'External- Having controlled all of the senses, always evenminded, '\n",
      "           'thinking of the welfare of all beings, they also come to Me. '\n",
      "           'Bhakti Yoga Chapter 12 Verse 12.5 - However, the worship of God '\n",
      "           'without form is very difficult for the embodied because it is very '\n",
      "           'hard to set the mind on the unmanifest, i.e. the one not capable '\n",
      "           'of being recognized with the aid of the senses. Bhakti Yoga '\n",
      "           'Chapter 12 Verse 12.6 - But those who worship Me, dedicating all '\n",
      "           'actions to Me, regarding Me as the Supreme Goal, meditating on Me '\n",
      "           'with single-mindness. Bhakti Yoga Chapter 12 Verse 12.7 - These '\n",
      "           'worshippers’ thoughts are set on Me; hence O Arjuna, I become '\n",
      "           'their saviour from the wheel of birth and death.'}\n",
      "{ 'notes': 'Bhakti Yoga Chapter 12 Verse 12.1 - Arjuna asked: Those devotees '\n",
      "           'who worship you as the one without attributes (formless) and those '\n",
      "           'who worship you as the one with attributes (with form); which of '\n",
      "           'these are better versed in Yoga? Bhakti Yoga Chapter 12 Verse 12.2 '\n",
      "           '- The Blessed Lord said: Those who have fixed their minds on Me '\n",
      "           'and worship me with total dedication and faith, them I consider '\n",
      "           'perfect in Yoga. Bhakti Yoga Chapter 12 Verse 12.3 - But those who '\n",
      "           'worship the formless, the Indefinable, the Imperishable, the '\n",
      "           'Unmanifest, the Omnipresent, the Unthinkable, the Unchangeable, '\n",
      "           'the Immovable, the External- Having controlled all of the senses, '\n",
      "           'always evenminded, thinking of the welfare of all beings, they '\n",
      "           'also come to Me. Bhakti Yoga Chapter 12 Verse 12.4 - But those who '\n",
      "           'worship the formless, the Indefinable, the Imperishable, the '\n",
      "           'Unmanifest, the Omnipresent, the Unthinkable, the Unchangeable, '\n",
      "           'the Immovable, the External- Having controlled all of the senses, '\n",
      "           'always evenminded, thinking of the welfare of all beings, they '\n",
      "           'also come to Me. Bhakti Yoga Chapter 12 Verse 12.5 - However, the '\n",
      "           'worship of God without form is very difficult for the embodied '\n",
      "           'because it is very hard to set the mind on the unmanifest, i.e. '\n",
      "           'the one not capable of being recognized with the aid of the '\n",
      "           'senses.'}\n",
      "{ 'notes': 'Jnana-Vijnana Yoga Chapter 7 Verse 7.22 - Thus, once these people '\n",
      "           'have been given their faith by Me, the devotees try to worship the '\n",
      "           'deities they choose to worship, and they ultimately achieve their '\n",
      "           'desires as ordered and directed by Me, the Deity of deities '\n",
      "           'Jnana-Vijnana Yoga Chapter 7 Verse 7.23 - The Lord said solemnly: '\n",
      "           'But the reward of those ignorant people who worship other deities '\n",
      "           'is only temporary. Those who worship other deities go to those '\n",
      "           'deities after death but those who worship Me, attain Me, and come '\n",
      "           'to Me. Jnana-Vijnana Yoga Chapter 7 Verse 7.24 - Dear Arjuna, '\n",
      "           'those people who have little intelligence fail to regard Me as the '\n",
      "           'Supreme, indestructible, the Almighty, and unmanifest (not readily '\n",
      "           'perceived by the senses); instead, they regard Me as a mere mortal '\n",
      "           'and ordinary human being. Jnana-Vijnana Yoga Chapter 7 Verse 7.25 '\n",
      "           '- Shrouded by My own Yogmaya (divine powers), I am not visible to '\n",
      "           'everybody. Those who are ignorant, however, do not know Me as '\n",
      "           'unborn and indestructible (eternal). They will never be able to '\n",
      "           'see Me, O Arjuna. Only those who are dear and devoted to Me, see '\n",
      "           'Me. Jnana-Vijnana Yoga Chapter 7 Verse 7.26 - O Arjuna, although I '\n",
      "           'know of every single being who was in the past, who is at the '\n",
      "           'present, and who will be in the future, nobody really knows Me.'}\n"
     ]
    }
   ],
   "source": [
    "# Search time for some real spirituality!\n",
    "\n",
    "hits = qdrant.search(\n",
    "    collection_name=\"bhakti\",\n",
    "    query_vector=encoder.encode(user_prompt).tolist(),\n",
    "    limit=3\n",
    ")\n",
    "for hit in hits:\n",
    "  #print(hit.payload, \"score:\", hit.score)\n",
    "    pp.pprint(hit.payload)"
   ]
  },
  {
   "cell_type": "code",
   "execution_count": 23,
   "id": "aa6d7cbc",
   "metadata": {},
   "outputs": [],
   "source": [
    "# define a variable to hold the search results\n",
    "search_results = [hit.payload for hit in hits]"
   ]
  },
  {
   "cell_type": "code",
   "execution_count": 24,
   "id": "d28c1e4f",
   "metadata": {},
   "outputs": [
    {
     "data": {
      "text/plain": [
       "['Bhakti Yoga Chapter 12 Verse 12.3 - But those who worship the formless, the Indefinable, the Imperishable, the Unmanifest, the Omnipresent, the Unthinkable, the Unchangeable, the Immovable, the External- Having controlled all of the senses, always evenminded, thinking of the welfare of all beings, they also come to Me. Bhakti Yoga Chapter 12 Verse 12.4 - But those who worship the formless, the Indefinable, the Imperishable, the Unmanifest, the Omnipresent, the Unthinkable, the Unchangeable, the Immovable, the External- Having controlled all of the senses, always evenminded, thinking of the welfare of all beings, they also come to Me. Bhakti Yoga Chapter 12 Verse 12.5 - However, the worship of God without form is very difficult for the embodied because it is very hard to set the mind on the unmanifest, i.e. the one not capable of being recognized with the aid of the senses. Bhakti Yoga Chapter 12 Verse 12.6 - But those who worship Me, dedicating all actions to Me, regarding Me as the Supreme Goal, meditating on Me with single-mindness. Bhakti Yoga Chapter 12 Verse 12.7 - These worshippers’ thoughts are set on Me; hence O Arjuna, I become their saviour from the wheel of birth and death.',\n",
       " 'Bhakti Yoga Chapter 12 Verse 12.1 - Arjuna asked: Those devotees who worship you as the one without attributes (formless) and those who worship you as the one with attributes (with form); which of these are better versed in Yoga? Bhakti Yoga Chapter 12 Verse 12.2 - The Blessed Lord said: Those who have fixed their minds on Me and worship me with total dedication and faith, them I consider perfect in Yoga. Bhakti Yoga Chapter 12 Verse 12.3 - But those who worship the formless, the Indefinable, the Imperishable, the Unmanifest, the Omnipresent, the Unthinkable, the Unchangeable, the Immovable, the External- Having controlled all of the senses, always evenminded, thinking of the welfare of all beings, they also come to Me. Bhakti Yoga Chapter 12 Verse 12.4 - But those who worship the formless, the Indefinable, the Imperishable, the Unmanifest, the Omnipresent, the Unthinkable, the Unchangeable, the Immovable, the External- Having controlled all of the senses, always evenminded, thinking of the welfare of all beings, they also come to Me. Bhakti Yoga Chapter 12 Verse 12.5 - However, the worship of God without form is very difficult for the embodied because it is very hard to set the mind on the unmanifest, i.e. the one not capable of being recognized with the aid of the senses.',\n",
       " 'Jnana-Vijnana Yoga Chapter 7 Verse 7.22 - Thus, once these people have been given their faith by Me, the devotees try to worship the deities they choose to worship, and they ultimately achieve their desires as ordered and directed by Me, the Deity of deities Jnana-Vijnana Yoga Chapter 7 Verse 7.23 - The Lord said solemnly: But the reward of those ignorant people who worship other deities is only temporary. Those who worship other deities go to those deities after death but those who worship Me, attain Me, and come to Me. Jnana-Vijnana Yoga Chapter 7 Verse 7.24 - Dear Arjuna, those people who have little intelligence fail to regard Me as the Supreme, indestructible, the Almighty, and unmanifest (not readily perceived by the senses); instead, they regard Me as a mere mortal and ordinary human being. Jnana-Vijnana Yoga Chapter 7 Verse 7.25 - Shrouded by My own Yogmaya (divine powers), I am not visible to everybody. Those who are ignorant, however, do not know Me as unborn and indestructible (eternal). They will never be able to see Me, O Arjuna. Only those who are dear and devoted to Me, see Me. Jnana-Vijnana Yoga Chapter 7 Verse 7.26 - O Arjuna, although I know of every single being who was in the past, who is at the present, and who will be in the future, nobody really knows Me.']"
      ]
     },
     "execution_count": 24,
     "metadata": {},
     "output_type": "execute_result"
    }
   ],
   "source": [
    "reference_notes = [search_result['notes'] for search_result in search_results]\n",
    "reference_notes"
   ]
  },
  {
   "cell_type": "code",
   "execution_count": 25,
   "id": "44715e11",
   "metadata": {},
   "outputs": [
    {
     "data": {
      "text/plain": [
       "\"You are an expert in ancient Indian History and especially the Bhagavad Gita. Use the following references from the Gita to answer my question at the end.\\n    Reference = ['Bhakti Yoga Chapter 12 Verse 12.3 - But those who worship the formless, the Indefinable, the Imperishable, the Unmanifest, the Omnipresent, the Unthinkable, the Unchangeable, the Immovable, the External- Having controlled all of the senses, always evenminded, thinking of the welfare of all beings, they also come to Me. Bhakti Yoga Chapter 12 Verse 12.4 - But those who worship the formless, the Indefinable, the Imperishable, the Unmanifest, the Omnipresent, the Unthinkable, the Unchangeable, the Immovable, the External- Having controlled all of the senses, always evenminded, thinking of the welfare of all beings, they also come to Me. Bhakti Yoga Chapter 12 Verse 12.5 - However, the worship of God without form is very difficult for the embodied because it is very hard to set the mind on the unmanifest, i.e. the one not capable of being recognized with the aid of the senses. Bhakti Yoga Chapter 12 Verse 12.6 - But those who worship Me, dedicating all actions to Me, regarding Me as the Supreme Goal, meditating on Me with single-mindness. Bhakti Yoga Chapter 12 Verse 12.7 - These worshippers’ thoughts are set on Me; hence O Arjuna, I become their saviour from the wheel of birth and death.', 'Bhakti Yoga Chapter 12 Verse 12.1 - Arjuna asked: Those devotees who worship you as the one without attributes (formless) and those who worship you as the one with attributes (with form); which of these are better versed in Yoga? Bhakti Yoga Chapter 12 Verse 12.2 - The Blessed Lord said: Those who have fixed their minds on Me and worship me with total dedication and faith, them I consider perfect in Yoga. Bhakti Yoga Chapter 12 Verse 12.3 - But those who worship the formless, the Indefinable, the Imperishable, the Unmanifest, the Omnipresent, the Unthinkable, the Unchangeable, the Immovable, the External- Having controlled all of the senses, always evenminded, thinking of the welfare of all beings, they also come to Me. Bhakti Yoga Chapter 12 Verse 12.4 - But those who worship the formless, the Indefinable, the Imperishable, the Unmanifest, the Omnipresent, the Unthinkable, the Unchangeable, the Immovable, the External- Having controlled all of the senses, always evenminded, thinking of the welfare of all beings, they also come to Me. Bhakti Yoga Chapter 12 Verse 12.5 - However, the worship of God without form is very difficult for the embodied because it is very hard to set the mind on the unmanifest, i.e. the one not capable of being recognized with the aid of the senses.', 'Jnana-Vijnana Yoga Chapter 7 Verse 7.22 - Thus, once these people have been given their faith by Me, the devotees try to worship the deities they choose to worship, and they ultimately achieve their desires as ordered and directed by Me, the Deity of deities Jnana-Vijnana Yoga Chapter 7 Verse 7.23 - The Lord said solemnly: But the reward of those ignorant people who worship other deities is only temporary. Those who worship other deities go to those deities after death but those who worship Me, attain Me, and come to Me. Jnana-Vijnana Yoga Chapter 7 Verse 7.24 - Dear Arjuna, those people who have little intelligence fail to regard Me as the Supreme, indestructible, the Almighty, and unmanifest (not readily perceived by the senses); instead, they regard Me as a mere mortal and ordinary human being. Jnana-Vijnana Yoga Chapter 7 Verse 7.25 - Shrouded by My own Yogmaya (divine powers), I am not visible to everybody. Those who are ignorant, however, do not know Me as unborn and indestructible (eternal). They will never be able to see Me, O Arjuna. Only those who are dear and devoted to Me, see Me. Jnana-Vijnana Yoga Chapter 7 Verse 7.26 - O Arjuna, although I know of every single being who was in the past, who is at the present, and who will be in the future, nobody really knows Me.'] Here is the question: But those who worship the formless, the Indefinable, the Imperishable, the Unmanifest, the Omnipresent, the Unthinkable, the Unchangeable, the Immovable, the External- Having controlled all of the senses, always evenminded, thinking of the welfare of all beings, they also come to Me.\""
      ]
     },
     "execution_count": 25,
     "metadata": {},
     "output_type": "execute_result"
    }
   ],
   "source": [
    "\"\"\"You are an expert in ancient Indian History and especially the Bhagavad Gita. Use the following references from the Gita to answer my question at the end.\n",
    "    Reference = \"\"\"+str(reference_notes)+\"\"\" Here is the question: \"\"\"+user_prompt"
   ]
  },
  {
   "cell_type": "code",
   "execution_count": 26,
   "id": "33243e5d-9e0d-4ec4-98e9-3fc56b8bdb10",
   "metadata": {},
   "outputs": [
    {
     "name": "stdout",
     "output_type": "stream",
     "text": [
      "The reference you provided from the Bhagavad Gita contains verses 12.3-5 and 12.7-12.26. To answer your question, we need to analyze these verses in the context of the Gita's teachings on worship and spiritual practice.\n",
      "\n",
      "Verse 12.3 states that those who worship the formless, indefinable, imperishable, unmanifest, omnipresent, unthinkable, unchangeable, immovable, external God with controlled senses, always even-minded, thinking of the welfare of all beings, come to God. This verse suggests that worshiping God in a state of inner peace, control over the senses, and selflessness leads to spiritual growth and union with God.\n",
      "\n",
      "Verse 12.5 notes that the worship of God without form is difficult for embodied beings because it is hard to set the mind on the unmanifest, i.e., the one not capable of being recognized with the aid of the senses. This verse highlights the challenge of attaining God beyond the limitations of the material world.\n",
      "\n",
      "Verse 12.7 states that those who worship Me, dedicating all actions to Me, regarding Me as the Supreme Goal, meditating on Me with single-mindedness, I become their savior from the wheel of birth and death. This verse reiterates the idea that dedicated worship of God leads to spiritual liberation.\n",
      "\n",
      "In conclusion, the verses you provided emphasize the importance of inner peace, selflessness, and dedication in worshiping God. By controlling the senses and thinking of the welfare of all beings, one can come closer to God and achieve spiritual growth and liberation.\n"
     ]
    }
   ],
   "source": [
    "# Now time to connect to the local large language model\n",
    "# from openai import OpenAI\n",
    "# client = OpenAI(\n",
    "#     base_url=\"http://localhost:11434/api/generate\", # \"http://<Your api-server IP>:port\"\n",
    "#     api_key = \"sk-no-key-required\"\n",
    "# )\n",
    "# completion = client.chat.completions.create(\n",
    "#     model=\"LLaMA_CPP\",\n",
    "#     messages=[\n",
    "#         {\"role\": \"system\", \"content\": \"You are chatbot, a wine specialist. Your top priority is to help guide users into selecting amazing wine and guide them with their requests.\"},\n",
    "#         {\"role\": \"user\", \"content\": \"Suggest me an amazing Malbec wine from Argentina\"},\n",
    "#         {\"role\": \"assistant\", \"content\": str(search_results)}\n",
    "#     ]\n",
    "# )\n",
    "# print(completion.choices[0].message)\n",
    "\n",
    "import requests\n",
    "\n",
    "url = \"http://localhost:11434/api/generate\"\n",
    "payload = {\n",
    "    \"model\": \"llama2\",\n",
    "    \"prompt\":\"\"\"You are an expert in ancient Indian History and especially the Bhagavad Gita. ONLY Use the following references from the Gita to answer my question at the end. DO NOT use any prior knowledge. If you are not sure, please say \"Source knowledge is insufficient and do not elaborate any further.\n",
    "    Reference = \"\"\"+str(reference_notes)+\"\"\" Here is the question: \"\"\"+user_prompt,\n",
    "    \"stream\":False\n",
    "}\n",
    "\n",
    "x = requests.post(url, json = payload)\n",
    "\n",
    "print(x.json()['response'])"
   ]
  },
  {
   "cell_type": "code",
   "execution_count": null,
   "id": "da073fb7",
   "metadata": {},
   "outputs": [],
   "source": []
  },
  {
   "cell_type": "code",
   "execution_count": null,
   "id": "c154c49b",
   "metadata": {},
   "outputs": [],
   "source": []
  }
 ],
 "metadata": {
  "kernelspec": {
   "display_name": "venv",
   "language": "python",
   "name": "python3"
  },
  "language_info": {
   "codemirror_mode": {
    "name": "ipython",
    "version": 3
   },
   "file_extension": ".py",
   "mimetype": "text/x-python",
   "name": "python",
   "nbconvert_exporter": "python",
   "pygments_lexer": "ipython3",
   "version": "3.11.4"
  }
 },
 "nbformat": 4,
 "nbformat_minor": 5
}
